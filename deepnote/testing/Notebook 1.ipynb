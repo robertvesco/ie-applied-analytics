{
  "cells": [
    {
      "cell_type": "code",
      "source": "# dependencies for pyomo and ideas\n# need to run update first\n!apt update\n# now install dependencies\n!apt install -y libgfortran5 libgomp1 liblapack3 libblas3",
      "metadata": {
        "source_hash": "c937c6bb",
        "execution_start": 1698350900508,
        "execution_millis": 9237,
        "deepnote_to_be_reexecuted": false,
        "cell_id": "31fba70d9cb4495695bac1ac579b575d",
        "deepnote_cell_type": "code"
      },
      "outputs": [
        {
          "name": "stdout",
          "text": "Get:1 http://deb.debian.org/debian buster InRelease [122 kB]\nGet:2 http://deb.debian.org/debian-security buster/updates InRelease [34.8 kB]\nGet:3 http://deb.debian.org/debian buster-updates InRelease [56.6 kB]\nGet:4 http://deb.debian.org/debian buster/main amd64 Packages [7,909 kB]\nGet:5 http://deb.debian.org/debian-security buster/updates/main amd64 Packages [567 kB]\nGet:6 http://deb.debian.org/debian buster-updates/main amd64 Packages [8,788 B]\nFetched 8,698 kB in 2s (3,513 kB/s)\n\n\n\n5 packages can be upgraded. Run 'apt list --upgradable' to see them.\n\n\n\nlibgomp1 is already the newest version (8.3.0-6).\nlibgomp1 set to manually installed.\nThe following NEW packages will be installed:\n  libblas3 libgfortran5 liblapack3\n0 upgraded, 3 newly installed, 0 to remove and 5 not upgraded.\nNeed to get 2,839 kB of archives.\nAfter this operation, 10.0 MB of additional disk space will be used.\nGet:1 http://deb.debian.org/debian buster/main amd64 libgfortran5 amd64 8.3.0-6 [581 kB]\nGet:2 http://deb.debian.org/debian buster/main amd64 libblas3 amd64 3.8.0-2 [148 kB]\nGet:3 http://deb.debian.org/debian buster/main amd64 liblapack3 amd64 3.8.0-2 [2,110 kB]\nFetched 2,839 kB in 0s (32.4 MB/s)\ndebconf: delaying package configuration, since apt-utils is not installed\n\n\u001b7\u001b[0;23r\u001b8\u001b[1ASelecting previously unselected package libgfortran5:amd64.\n(Reading database ... 31092 files and directories currently installed.)\nPreparing to unpack .../libgfortran5_8.3.0-6_amd64.deb ...\n\u001b7\u001b[24;0f\u001b[42m\u001b[30mProgress: [  0%]\u001b[49m\u001b[39m [..........................................................] \u001b8\u001b7\u001b[24;0f\u001b[42m\u001b[30mProgress: [  8%]\u001b[49m\u001b[39m [####......................................................] \u001b8Unpacking libgfortran5:amd64 (8.3.0-6) ...\n\u001b7\u001b[24;0f\u001b[42m\u001b[30mProgress: [ 15%]\u001b[49m\u001b[39m [########..................................................] \u001b8Selecting previously unselected package libblas3:amd64.\nPreparing to unpack .../libblas3_3.8.0-2_amd64.deb ...\n\u001b7\u001b[24;0f\u001b[42m\u001b[30mProgress: [ 23%]\u001b[49m\u001b[39m [#############.............................................] \u001b8Unpacking libblas3:amd64 (3.8.0-2) ...\n\u001b7\u001b[24;0f\u001b[42m\u001b[30mProgress: [ 31%]\u001b[49m\u001b[39m [#################.........................................] \u001b8Selecting previously unselected package liblapack3:amd64.\nPreparing to unpack .../liblapack3_3.8.0-2_amd64.deb ...\n\u001b7\u001b[24;0f\u001b[42m\u001b[30mProgress: [ 38%]\u001b[49m\u001b[39m [######################....................................] \u001b8Unpacking liblapack3:amd64 (3.8.0-2) ...\n\u001b7\u001b[24;0f\u001b[42m\u001b[30mProgress: [ 46%]\u001b[49m\u001b[39m [##########################................................] \u001b8Setting up libgfortran5:amd64 (8.3.0-6) ...\n\u001b7\u001b[24;0f\u001b[42m\u001b[30mProgress: [ 54%]\u001b[49m\u001b[39m [###############################...........................] \u001b8\u001b7\u001b[24;0f\u001b[42m\u001b[30mProgress: [ 62%]\u001b[49m\u001b[39m [###################################.......................] \u001b8Setting up libblas3:amd64 (3.8.0-2) ...\n\u001b7\u001b[24;0f\u001b[42m\u001b[30mProgress: [ 69%]\u001b[49m\u001b[39m [########################################..................] \u001b8update-alternatives: using /usr/lib/x86_64-linux-gnu/blas/libblas.so.3 to provide /usr/lib/x86_64-linux-gnu/libblas.so.3 (libblas.so.3-x86_64-linux-gnu) in auto mode\n\u001b7\u001b[24;0f\u001b[42m\u001b[30mProgress: [ 77%]\u001b[49m\u001b[39m [############################################..............] \u001b8Setting up liblapack3:amd64 (3.8.0-2) ...\n\u001b7\u001b[24;0f\u001b[42m\u001b[30mProgress: [ 85%]\u001b[49m\u001b[39m [#################################################.........] \u001b8update-alternatives: using /usr/lib/x86_64-linux-gnu/lapack/liblapack.so.3 to provide /usr/lib/x86_64-linux-gnu/liblapack.so.3 (liblapack.so.3-x86_64-linux-gnu) in auto mode\n\u001b7\u001b[24;0f\u001b[42m\u001b[30mProgress: [ 92%]\u001b[49m\u001b[39m [#####################################################.....] \u001b8Processing triggers for libc-bin (2.28-10+deb10u2) ...\n\n\u001b7\u001b[0;24r\u001b8\u001b[1A\u001b[J",
          "output_type": "stream"
        }
      ],
      "execution_count": 2,
      "block_group": "5845386aa2ea479c94d154426a624269"
    },
    {
      "cell_type": "code",
      "source": "%%capture\nimport sys\nimport os",
      "metadata": {
        "source_hash": null,
        "execution_start": 1698349099980,
        "execution_millis": 11,
        "deepnote_to_be_reexecuted": false,
        "cell_id": "93ba1c7b6f3e446ab04a5cb9235bea00",
        "deepnote_cell_type": "code"
      },
      "outputs": [],
      "execution_count": null,
      "block_group": "33a91e514408477c8dff9e8310bbe25a"
    },
    {
      "cell_type": "code",
      "source": "",
      "metadata": {
        "cell_id": "dfb8d2dc20804c31be60244abfcea5d3",
        "deepnote_cell_type": "code"
      },
      "outputs": [],
      "execution_count": null,
      "block_group": "5846be74e58f4a8cbd799fceafeaaf98"
    },
    {
      "cell_type": "code",
      "source": "!pip install idaes-pse --pre",
      "metadata": {
        "source_hash": null,
        "execution_start": 1698349138836,
        "execution_millis": 15711,
        "deepnote_to_be_reexecuted": false,
        "cell_id": "756168a76f7a4c0aa20a8bb3adf8c951",
        "deepnote_cell_type": "code"
      },
      "outputs": [
        {
          "name": "stdout",
          "text": "Collecting idaes-pse\n  Downloading idaes_pse-2.2.0-py3-none-any.whl (46.0 MB)\n\u001b[2K     \u001b[90m━━━━━━━━━━━━━━━━━━━━━━━━━━━━━━━━━━━━━━━━\u001b[0m \u001b[32m46.0/46.0 MB\u001b[0m \u001b[31m38.7 MB/s\u001b[0m eta \u001b[36m0:00:00\u001b[0m\n\u001b[?25hCollecting networkx\n  Downloading networkx-3.2-py3-none-any.whl (1.6 MB)\n\u001b[2K     \u001b[90m━━━━━━━━━━━━━━━━━━━━━━━━━━━━━━━━━━━━━━━━\u001b[0m \u001b[32m1.6/1.6 MB\u001b[0m \u001b[31m91.4 MB/s\u001b[0m eta \u001b[36m0:00:00\u001b[0m\n\u001b[?25hCollecting pint\n  Downloading Pint-0.23rc0-py3-none-any.whl (302 kB)\n\u001b[2K     \u001b[90m━━━━━━━━━━━━━━━━━━━━━━━━━━━━━━━━━━━━━━\u001b[0m \u001b[32m302.9/302.9 kB\u001b[0m \u001b[31m27.3 MB/s\u001b[0m eta \u001b[36m0:00:00\u001b[0m\n\u001b[?25hRequirement already satisfied: scipy in /shared-libs/python3.9/py/lib/python3.9/site-packages (from idaes-pse) (1.9.3)\nCollecting pyomo>=6.6.2\n  Downloading Pyomo-6.6.2-cp39-cp39-manylinux_2_17_x86_64.manylinux2014_x86_64.whl (12.8 MB)\n\u001b[2K     \u001b[90m━━━━━━━━━━━━━━━━━━━━━━━━━━━━━━━━━━━━━━━━\u001b[0m \u001b[32m12.8/12.8 MB\u001b[0m \u001b[31m79.9 MB/s\u001b[0m eta \u001b[36m0:00:00\u001b[0m\n\u001b[?25hRequirement already satisfied: matplotlib in /shared-libs/python3.9/py/lib/python3.9/site-packages (from idaes-pse) (3.6.0)\nRequirement already satisfied: click>=8 in /shared-libs/python3.9/py/lib/python3.9/site-packages (from idaes-pse) (8.1.3)\nRequirement already satisfied: pandas!=2.1.0 in /shared-libs/python3.9/py/lib/python3.9/site-packages (from idaes-pse) (1.2.5)\nRequirement already satisfied: numpy in /shared-libs/python3.9/py/lib/python3.9/site-packages (from idaes-pse) (1.23.4)\nRequirement already satisfied: sympy in /shared-libs/python3.9/py/lib/python3.9/site-packages (from idaes-pse) (1.11.1)\nRequirement already satisfied: pytz>=2017.3 in /shared-libs/python3.9/py/lib/python3.9/site-packages (from pandas!=2.1.0->idaes-pse) (2022.5)\nRequirement already satisfied: python-dateutil>=2.7.3 in /shared-libs/python3.9/py-core/lib/python3.9/site-packages (from pandas!=2.1.0->idaes-pse) (2.8.2)\nCollecting ply\n  Downloading ply-3.11-py2.py3-none-any.whl (49 kB)\n\u001b[2K     \u001b[90m━━━━━━━━━━━━━━━━━━━━━━━━━━━━━━━━━━━━━━━━\u001b[0m \u001b[32m49.6/49.6 kB\u001b[0m \u001b[31m13.9 MB/s\u001b[0m eta \u001b[36m0:00:00\u001b[0m\n\u001b[?25hRequirement already satisfied: pillow>=6.2.0 in /shared-libs/python3.9/py/lib/python3.9/site-packages (from matplotlib->idaes-pse) (9.2.0)\nRequirement already satisfied: pyparsing>=2.2.1 in /shared-libs/python3.9/py-core/lib/python3.9/site-packages (from matplotlib->idaes-pse) (3.0.9)\nRequirement already satisfied: kiwisolver>=1.0.1 in /shared-libs/python3.9/py/lib/python3.9/site-packages (from matplotlib->idaes-pse) (1.4.4)\nRequirement already satisfied: fonttools>=4.22.0 in /shared-libs/python3.9/py/lib/python3.9/site-packages (from matplotlib->idaes-pse) (4.37.4)\nRequirement already satisfied: contourpy>=1.0.1 in /shared-libs/python3.9/py/lib/python3.9/site-packages (from matplotlib->idaes-pse) (1.0.5)\nRequirement already satisfied: cycler>=0.10 in /shared-libs/python3.9/py/lib/python3.9/site-packages (from matplotlib->idaes-pse) (0.11.0)\nRequirement already satisfied: packaging>=20.0 in /shared-libs/python3.9/py-core/lib/python3.9/site-packages (from matplotlib->idaes-pse) (21.3)\nRequirement already satisfied: typing-extensions in /shared-libs/python3.9/py/lib/python3.9/site-packages (from pint->idaes-pse) (4.4.0)\nRequirement already satisfied: mpmath>=0.19 in /shared-libs/python3.9/py/lib/python3.9/site-packages (from sympy->idaes-pse) (1.2.1)\nRequirement already satisfied: six>=1.5 in /shared-libs/python3.9/py-core/lib/python3.9/site-packages (from python-dateutil>=2.7.3->pandas!=2.1.0->idaes-pse) (1.16.0)\nInstalling collected packages: ply, pyomo, pint, networkx, idaes-pse\nSuccessfully installed idaes-pse-2.2.0 networkx-3.2 pint-0.23rc0 ply-3.11 pyomo-6.6.2\n\n\u001b[1m[\u001b[0m\u001b[34;49mnotice\u001b[0m\u001b[1;39;49m]\u001b[0m\u001b[39;49m A new release of pip is available: \u001b[0m\u001b[31;49m23.0.1\u001b[0m\u001b[39;49m -> \u001b[0m\u001b[32;49m23.3.1\u001b[0m\n\u001b[1m[\u001b[0m\u001b[34;49mnotice\u001b[0m\u001b[1;39;49m]\u001b[0m\u001b[39;49m To update, run: \u001b[0m\u001b[32;49mpip install --upgrade pip\u001b[0m\n",
          "output_type": "stream"
        }
      ],
      "execution_count": null,
      "block_group": "14cadf1021de44808b1b62a596d8de1d"
    },
    {
      "cell_type": "code",
      "source": "!idaes get-extensions --to ./bin",
      "metadata": {
        "source_hash": null,
        "execution_start": 1698347159036,
        "execution_millis": 108792,
        "deepnote_to_be_reexecuted": false,
        "cell_id": "2edc8069fd0e4081ab95feebaaa53889",
        "deepnote_cell_type": "code"
      },
      "outputs": [
        {
          "name": "stdout",
          "text": "Getting files...\nDone\n---------------------------------------------------\nIDAES Extensions Build Versions\n===================================================\nSolvers:  vno version file found\nLibrary:  vno version file found\n===================================================\n",
          "output_type": "stream"
        }
      ],
      "execution_count": null,
      "block_group": "090debca5e734963bdca71a4cc412098"
    },
    {
      "cell_type": "code",
      "source": "os.environ['PATH'] += ':bin'",
      "metadata": {
        "source_hash": null,
        "execution_start": 1698349107663,
        "execution_millis": 12,
        "deepnote_to_be_reexecuted": false,
        "cell_id": "f32c00a8049e4cf3bc743b46a1536fa2",
        "deepnote_cell_type": "code"
      },
      "outputs": [],
      "execution_count": null,
      "block_group": "4b50104f43f548ff84c0b39c92b452f3"
    },
    {
      "cell_type": "code",
      "source": "# to verify the pyomo was installed correctly\n\nfrom pyomo.environ import *\n\n# create a model\nmodel = ConcreteModel()\n\n# declare decision variables\nmodel.x = Var(domain=NonNegativeReals)\nmodel.y = Var(domain=NonNegativeReals)\n\n# declare objective\nmodel.profit = Objective(expr = 40*model.x + 30*model.y, sense=maximize)\n\n# declare constraints\nmodel.demand = Constraint(expr = model.x <= 40)\nmodel.laborA = Constraint(expr = model.x + model.y <= 80)\nmodel.laborB = Constraint(expr = 2*model.x + model.y <= 100)\n\nmodel.pprint()\n\ndef display_solution(model):\n\n    # display solution\n    print('\\nProfit = ', model.profit())\n\n    print('\\nDecision Variables')\n    print('x = ', model.x.value)\n    print('y = ', model.y())\n\n    print('\\nConstraints')\n    print('Demand  = ', model.demand())\n    print('Labor A = ', model.laborA())\n    print('Labor B = ', model.laborB())",
      "metadata": {
        "allow_embed": false,
        "source_hash": null,
        "execution_start": 1698349168784,
        "execution_millis": 318,
        "deepnote_to_be_reexecuted": false,
        "cell_id": "a3551c3068024254800a1b906c4f7594",
        "deepnote_cell_type": "code"
      },
      "outputs": [
        {
          "name": "stdout",
          "text": "2 Var Declarations\n    x : Size=1, Index=None\n        Key  : Lower : Value : Upper : Fixed : Stale : Domain\n        None :     0 :  None :  None : False :  True : NonNegativeReals\n    y : Size=1, Index=None\n        Key  : Lower : Value : Upper : Fixed : Stale : Domain\n        None :     0 :  None :  None : False :  True : NonNegativeReals\n\n1 Objective Declarations\n    profit : Size=1, Index=None, Active=True\n        Key  : Active : Sense    : Expression\n        None :   True : maximize : 40*x + 30*y\n\n3 Constraint Declarations\n    demand : Size=1, Index=None, Active=True\n        Key  : Lower : Body : Upper : Active\n        None :  -Inf :    x :  40.0 :   True\n    laborA : Size=1, Index=None, Active=True\n        Key  : Lower : Body  : Upper : Active\n        None :  -Inf : x + y :  80.0 :   True\n    laborB : Size=1, Index=None, Active=True\n        Key  : Lower : Body    : Upper : Active\n        None :  -Inf : 2*x + y : 100.0 :   True\n\n6 Declarations: x y profit demand laborA laborB\n",
          "output_type": "stream"
        }
      ],
      "execution_count": null,
      "block_group": "109e3c23529f4d4095756b452126f23d"
    },
    {
      "cell_type": "code",
      "source": "SolverFactory('clp').solve(model, tee=True).write()\n\ndisplay_solution(model)",
      "metadata": {
        "source_hash": null,
        "execution_start": 1698349632862,
        "execution_millis": 354,
        "deepnote_to_be_reexecuted": false,
        "cell_id": "c9122f9047d24133a9e8e5625bcc5383",
        "deepnote_cell_type": "code"
      },
      "outputs": [
        {
          "name": "stdout",
          "text": "Coin LP version 1.17.8, build Jun  7 2023\ncommand line - /datasets/_deepnote_work/bin/clp /tmp/tmpxoaqm71r.pyomo.nl -AMPL \nCLP 1.17.8# ==========================================================\n# = Solver Results                                         =\n# ==========================================================\n# ----------------------------------------------------------\n#   Problem Information\n# ----------------------------------------------------------\nProblem: \n- Lower bound: -inf\n  Upper bound: inf\n  Number of objectives: 1\n  Number of constraints: 3\n  Number of variables: 2\n  Sense: unknown\n# ----------------------------------------------------------\n#   Solver Information\n# ----------------------------------------------------------\nSolver: \n- Status: ok\n  Message: CLP 1.17.8 optimal, objective -2600; 2 iterations\n  Termination condition: optimal\n  Id: 0\n  Error rc: 0\n  Time: 0.17742156982421875\n# ----------------------------------------------------------\n#   Solution Information\n# ----------------------------------------------------------\nSolution: \n- number of solutions: 0\n  number of solutions displayed: 0\n\nProfit =  2600.0\n\nDecision Variables\nx =  20.0\ny =  60.0\n\nConstraints\nDemand  =  20.0\nLabor A =  80.0\nLabor B =  100.0\n",
          "output_type": "stream"
        }
      ],
      "execution_count": null,
      "block_group": "bf1a04f2f34f41ce84873cfba8e6248f"
    },
    {
      "cell_type": "code",
      "source": "SolverFactory('cbc').solve(model, tee=True).write()\n\ndisplay_solution(model)",
      "metadata": {
        "source_hash": null,
        "execution_start": 1698349807480,
        "execution_millis": 1213,
        "deepnote_to_be_reexecuted": false,
        "cell_id": "d5f52060408a4b59b0c1f823846148f7",
        "deepnote_cell_type": "code"
      },
      "outputs": [
        {
          "name": "stdout",
          "text": "Welcome to the CBC MILP Solver \nVersion: 2.10.10 \nBuild Date: Jun  7 2023 \n\ncommand line - /datasets/_deepnote_work/bin/cbc -printingOptions all -import /tmp/tmpsqxwbjky.pyomo.lp -stat=1 -solve -solu /tmp/tmpsqxwbjky.pyomo.soln (default strategy 1)\nOption for printingOptions changed from normal to all\n CoinLpIO::readLp(): Maximization problem reformulated as minimization\nCoin0009I Switching back to maximization to get correct duals etc\nPresolve 2 (-1) rows, 2 (0) columns and 4 (-1) elements\nStatistics for presolved model\n\n\nProblem has 2 rows, 2 columns (2 with objective) and 4 elements\nColumn breakdown:\n1 of type 0.0->inf, 1 of type 0.0->up, 0 of type lo->inf, \n0 of type lo->up, 0 of type free, 0 of type fixed, \n0 of type -inf->0.0, 0 of type -inf->up, 0 of type 0.0->1.0 \nRow breakdown:\n0 of type E 0.0, 0 of type E 1.0, 0 of type E -1.0, \n0 of type E other, 0 of type G 0.0, 0 of type G 1.0, \n0 of type G other, 0 of type L 0.0, 0 of type L 1.0, \n2 of type L other, 0 of type Range 0.0->1.0, 0 of type Range other, \n0 of type Free \nPresolve 2 (-1) rows, 2 (0) columns and 4 (-1) elements\n0  Obj -0 Dual inf 69.999998 (2)\n2  Obj 2600\nOptimal - objective value 2600\nAfter Postsolve, objective 2600, infeasibilities - dual 0 (0), primal 0 (0)\nOptimal objective 2600 - 2 iterations time 0.002, Presolve 0.00\nTotal time (CPU seconds):       0.00   (Wallclock seconds):       0.00\n\n# ==========================================================\n# = Solver Results                                         =\n# ==========================================================\n# ----------------------------------------------------------\n#   Problem Information\n# ----------------------------------------------------------\nProblem: \n- Name: unknown\n  Lower bound: 2600.0\n  Upper bound: 2600.0\n  Number of objectives: 1\n  Number of constraints: 3\n  Number of variables: 2\n  Number of nonzeros: 2\n  Sense: maximize\n# ----------------------------------------------------------\n#   Solver Information\n# ----------------------------------------------------------\nSolver: \n- Status: ok\n  User time: -1.0\n  System time: 0.0\n  Wallclock time: 0.0\n  Termination condition: optimal\n  Termination message: Model was solved to optimality (subject to tolerances), and an optimal solution is available.\n  Statistics: \n    Branch and bound: \n      Number of bounded subproblems: None\n      Number of created subproblems: None\n    Black box: \n      Number of iterations: 2\n  Error rc: 0\n  Time: 0.765547513961792\n# ----------------------------------------------------------\n#   Solution Information\n# ----------------------------------------------------------\nSolution: \n- number of solutions: 0\n  number of solutions displayed: 0\n\nProfit =  2600.0\n\nDecision Variables\nx =  20.0\ny =  60.0\n\nConstraints\nDemand  =  20.0\nLabor A =  80.0\nLabor B =  100.0\n",
          "output_type": "stream"
        }
      ],
      "execution_count": null,
      "block_group": "fbadc8271ec34220926c0fc60408442e"
    },
    {
      "cell_type": "code",
      "source": "SolverFactory('ipopt').solve(model, tee=True).write()\n\ndisplay_solution(model)",
      "metadata": {
        "source_hash": null,
        "execution_start": 1698349848843,
        "execution_millis": 1065,
        "deepnote_to_be_reexecuted": false,
        "cell_id": "4a705e6a4fb14d56ac0cbf6d0a99945a",
        "deepnote_cell_type": "code"
      },
      "outputs": [
        {
          "name": "stdout",
          "text": "Ipopt 3.13.2: \n\n******************************************************************************\nThis program contains Ipopt, a library for large-scale nonlinear optimization.\n Ipopt is released as open source code under the Eclipse Public License (EPL).\n         For more information visit http://projects.coin-or.org/Ipopt\n\nThis version of Ipopt was compiled from source code available at\n    https://github.com/IDAES/Ipopt as part of the Institute for the Design of\n    Advanced Energy Systems Process Systems Engineering Framework (IDAES PSE\n    Framework) Copyright (c) 2018-2019. See https://github.com/IDAES/idaes-pse.\n\nThis version of Ipopt was compiled using HSL, a collection of Fortran codes\n    for large-scale scientific computation.  All technical papers, sales and\n    publicity material resulting from use of the HSL codes within IPOPT must\n    contain the following acknowledgement:\n        HSL, a collection of Fortran codes for large-scale scientific\n        computation. See http://www.hsl.rl.ac.uk.\n******************************************************************************\n\nThis is Ipopt version 3.13.2, running with linear solver ma27.\n\nNumber of nonzeros in equality constraint Jacobian...:        0\nNumber of nonzeros in inequality constraint Jacobian.:        5\nNumber of nonzeros in Lagrangian Hessian.............:        0\n\nTotal number of variables............................:        2\n                     variables with only lower bounds:        2\n                variables with lower and upper bounds:        0\n                     variables with only upper bounds:        0\nTotal number of equality constraints.................:        0\nTotal number of inequality constraints...............:        3\n        inequality constraints with only lower bounds:        0\n   inequality constraints with lower and upper bounds:        0\n        inequality constraints with only upper bounds:        3\n\niter    objective    inf_pr   inf_du lg(mu)  ||d||  lg(rg) alpha_du alpha_pr  ls\n   0 -2.6000000e+03 0.00e+00 1.17e+01  -1.0 0.00e+00    -  0.00e+00 0.00e+00   0\n   1 -2.6200900e+03 7.50e-01 6.34e+00  -1.0 1.88e+01    -  7.55e-01 5.27e-02f  1\n   2 -2.6035835e+03 1.39e-01 1.27e+00  -1.0 1.07e+00    -  9.86e-01 8.49e-01h  1\n   3 -2.5997998e+03 0.00e+00 1.00e-06  -1.0 8.12e-02    -  1.00e+00 1.00e+00h  1\n   4 -2.5999944e+03 0.00e+00 2.83e-08  -2.5 9.74e-03    -  1.00e+00 1.00e+00f  1\n   5 -2.5999997e+03 0.00e+00 1.50e-09  -3.8 2.66e-04    -  1.00e+00 1.00e+00f  1\n   6 -2.6000000e+03 0.00e+00 1.85e-11  -5.7 1.49e-05    -  1.00e+00 1.00e+00f  1\n   7 -2.6000000e+03 0.00e+00 2.78e-14  -8.6 1.84e-07    -  1.00e+00 1.00e+00f  1\n\nNumber of Iterations....: 7\n\n                                   (scaled)                 (unscaled)\nObjective...............:  -2.6000000259949879e+03   -2.6000000259949879e+03\nDual infeasibility......:   2.7778601068099499e-14    2.7778601068099499e-14\nConstraint violation....:   0.0000000000000000e+00    0.0000000000000000e+00\nComplementarity.........:   2.5059421204891839e-09    2.5059421204891839e-09\nOverall NLP error.......:   2.5059421204891839e-09    2.5059421204891839e-09\n\n\nNumber of objective function evaluations             = 8\nNumber of objective gradient evaluations             = 8\nNumber of equality constraint evaluations            = 0\nNumber of inequality constraint evaluations          = 8\nNumber of equality constraint Jacobian evaluations   = 0\nNumber of inequality constraint Jacobian evaluations = 8\nNumber of Lagrangian Hessian evaluations             = 7\nTotal CPU secs in IPOPT (w/o function evaluations)   =      0.000\nTotal CPU secs in NLP function evaluations           =      0.000\n\nEXIT: Optimal Solution Found.\n# ==========================================================\n# = Solver Results                                         =\n# ==========================================================\n# ----------------------------------------------------------\n#   Problem Information\n# ----------------------------------------------------------\nProblem: \n- Lower bound: -inf\n  Upper bound: inf\n  Number of objectives: 1\n  Number of constraints: 3\n  Number of variables: 2\n  Sense: unknown\n# ----------------------------------------------------------\n#   Solver Information\n# ----------------------------------------------------------\nSolver: \n- Status: ok\n  Message: Ipopt 3.13.2\\x3a Optimal Solution Found\n  Termination condition: optimal\n  Id: 0\n  Error rc: 0\n  Time: 0.5520317554473877\n# ----------------------------------------------------------\n#   Solution Information\n# ----------------------------------------------------------\nSolution: \n- number of solutions: 0\n  number of solutions displayed: 0\n\nProfit =  2600.000025994988\n\nDecision Variables\nx =  20.0000001998747\ny =  60.0000006\n\nConstraints\nDemand  =  20.0000001998747\nLabor A =  80.0000007998747\nLabor B =  100.0000009997494\n",
          "output_type": "stream"
        }
      ],
      "execution_count": null,
      "block_group": "f365e2a809314fa1bb9575eae49bd10c"
    },
    {
      "cell_type": "code",
      "source": "SolverFactory('bonmin').solve(model, tee=True).write()\n\ndisplay_solution(model)",
      "metadata": {
        "source_hash": null,
        "execution_start": 1698349882008,
        "execution_millis": 1477,
        "deepnote_to_be_reexecuted": false,
        "cell_id": "8c6f23e939c9445c90bb22a312daabaa",
        "deepnote_cell_type": "code"
      },
      "outputs": [
        {
          "name": "stdout",
          "text": "Bonmin 1.8.8 using Cbc 2.10.10 and Ipopt 3.13.2\nbonmin: \nCbc3007W No integer variables - nothing to do\n\n******************************************************************************\nThis program contains Ipopt, a library for large-scale nonlinear optimization.\n Ipopt is released as open source code under the Eclipse Public License (EPL).\n         For more information visit http://projects.coin-or.org/Ipopt\n\nThis version of Ipopt was compiled from source code available at\n    https://github.com/IDAES/Ipopt as part of the Institute for the Design of\n    Advanced Energy Systems Process Systems Engineering Framework (IDAES PSE\n    Framework) Copyright (c) 2018-2019. See https://github.com/IDAES/idaes-pse.\n\nThis version of Ipopt was compiled using HSL, a collection of Fortran codes\n    for large-scale scientific computation.  All technical papers, sales and\n    publicity material resulting from use of the HSL codes within IPOPT must\n    contain the following acknowledgement:\n        HSL, a collection of Fortran codes for large-scale scientific\n        computation. See http://www.hsl.rl.ac.uk.\n******************************************************************************\n\nNLP0012I \n              Num      Status      Obj             It       time                 Location\nNLP0014I             1         OPT -2600        6 0.000101\nCbc3007W No integer variables - nothing to do\n\n \t\"Finished\"\n# ==========================================================\n# = Solver Results                                         =\n# ==========================================================\n# ----------------------------------------------------------\n#   Problem Information\n# ----------------------------------------------------------\nProblem: \n- Lower bound: -inf\n  Upper bound: inf\n  Number of objectives: 1\n  Number of constraints: 0\n  Number of variables: 2\n  Sense: unknown\n# ----------------------------------------------------------\n#   Solver Information\n# ----------------------------------------------------------\nSolver: \n- Status: ok\n  Message: bonmin\\x3a Optimal\n  Termination condition: optimal\n  Id: 3\n  Error rc: 0\n  Time: 0.15504074096679688\n# ----------------------------------------------------------\n#   Solution Information\n# ----------------------------------------------------------\nSolution: \n- number of solutions: 0\n  number of solutions displayed: 0\n\nProfit =  2600.0000259999797\n\nDecision Variables\nx =  20.000000199999512\ny =  60.00000059999998\n\nConstraints\nDemand  =  20.000000199999512\nLabor A =  80.0000007999995\nLabor B =  100.000000999999\n",
          "output_type": "stream"
        }
      ],
      "execution_count": null,
      "block_group": "4df3d804a1b14e67a5c4e7528f7c0ef3"
    },
    {
      "cell_type": "code",
      "source": "SolverFactory('couenne').solve(model, tee=True).write()\n\ndisplay_solution(model)",
      "metadata": {
        "source_hash": null,
        "execution_start": 1698349913793,
        "execution_millis": 1424,
        "deepnote_to_be_reexecuted": false,
        "cell_id": "f199e6f043de4345b63447c8fc8bfa82",
        "deepnote_cell_type": "code"
      },
      "outputs": [
        {
          "name": "stdout",
          "text": "Couenne 0.5.8 -- an Open-Source solver for Mixed Integer Nonlinear Optimization\nMailing list: couenne@list.coin-or.org\nInstructions: http://www.coin-or.org/Couenne\ncouenne: \nANALYSIS TEST: Couenne: new cutoff value -2.6000000020e+03 (0.004878 seconds)\nNLP0012I \n              Num      Status      Obj             It       time                 Location\nNLP0014I             1         OPT -2600        6 0.001735\nCouenne: new cutoff value -2.6000000260e+03 (0.007134 seconds)\nLoaded instance \"/tmp/tmpjm3yj3z1.pyomo.nl\"\nConstraints:            3\nVariables:              2 (0 integer)\nAuxiliaries:            2 (0 integer)\n\nCoin0506I Presolve 0 (-3) rows, 0 (-4) columns and 0 (-8) elements\nClp0000I Optimal - objective value -2600\nClp0032I Optimal objective -2600 - 0 iterations time 0.002, Presolve 0.00\nCbc3007W No integer variables - nothing to do\nClp0000I Optimal - objective value -2600\n\b\n \t\"Finished\"\n\nLinearization cuts added at root node:          3\nLinearization cuts added in total:              3  (separation time: 7.9e-05s)\nTotal solve time:                        0.000784s (0.000782s in branch-and-bound)\nLower bound:                                -2600\nUpper bound:                                -2600  (gap: 0.00%)\nBranch-and-bound nodes:                         0\nPerformance of                           FBBT:\t    7.5e-05s,        3 runs. fix:          0 shrnk:    8.10732 ubd:          0 2ubd:          0 infeas:          0\n# ==========================================================\n# = Solver Results                                         =\n# ==========================================================\n# ----------------------------------------------------------\n#   Problem Information\n# ----------------------------------------------------------\nProblem: \n- Lower bound: -inf\n  Upper bound: inf\n  Number of objectives: 1\n  Number of constraints: 0\n  Number of variables: 2\n  Sense: unknown\n# ----------------------------------------------------------\n#   Solver Information\n# ----------------------------------------------------------\nSolver: \n- Status: ok\n  Message: couenne\\x3a Optimal\n  Termination condition: optimal\n  Id: 3\n  Error rc: 0\n  Time: 0.23186922073364258\n# ----------------------------------------------------------\n#   Solution Information\n# ----------------------------------------------------------\nSolution: \n- number of solutions: 0\n  number of solutions displayed: 0\n\nProfit =  2600.00002599998\n\nDecision Variables\nx =  20.000000199999516\ny =  60.000000599999986\n\nConstraints\nDemand  =  20.000000199999516\nLabor A =  80.0000007999995\nLabor B =  100.00000099999902\n",
          "output_type": "stream"
        }
      ],
      "execution_count": null,
      "block_group": "b1d77a7fedc54d5e85c292c4262d2519"
    },
    {
      "cell_type": "code",
      "source": "# sometimes takes several tries to get it to install everything\n!pip install ortools",
      "metadata": {
        "source_hash": null,
        "execution_start": 1698350461528,
        "execution_millis": 14507,
        "deepnote_to_be_reexecuted": false,
        "cell_id": "bafffd567ce443f0be2003d59090e58f",
        "deepnote_cell_type": "code"
      },
      "outputs": [
        {
          "name": "stdout",
          "text": "Requirement already satisfied: ortools in /root/.local/lib/python3.9/site-packages (9.7.2996)\nRequirement already satisfied: numpy>=1.13.3 in /shared-libs/python3.9/py/lib/python3.9/site-packages (from ortools) (1.23.4)\nRequirement already satisfied: protobuf>=4.23.3 in /root/venv/lib/python3.9/site-packages (from ortools) (4.24.4)\nRequirement already satisfied: absl-py>=0.13 in /shared-libs/python3.9/py/lib/python3.9/site-packages (from ortools) (1.3.0)\n\n\u001b[1m[\u001b[0m\u001b[34;49mnotice\u001b[0m\u001b[1;39;49m]\u001b[0m\u001b[39;49m A new release of pip is available: \u001b[0m\u001b[31;49m23.0.1\u001b[0m\u001b[39;49m -> \u001b[0m\u001b[32;49m23.3.1\u001b[0m\n\u001b[1m[\u001b[0m\u001b[34;49mnotice\u001b[0m\u001b[1;39;49m]\u001b[0m\u001b[39;49m To update, run: \u001b[0m\u001b[32;49mpip install --upgrade pip\u001b[0m\n",
          "output_type": "stream"
        }
      ],
      "execution_count": null,
      "block_group": "4f208c96cd794cdca84a6c32037d1e08"
    },
    {
      "cell_type": "code",
      "source": "!pip install pytest",
      "metadata": {
        "source_hash": null,
        "execution_start": 1698348903489,
        "execution_millis": 4776,
        "deepnote_to_be_reexecuted": false,
        "cell_id": "b2b523ee6ee348b2b284f372c237376e",
        "deepnote_cell_type": "code"
      },
      "outputs": [
        {
          "name": "stdout",
          "text": "Collecting pytest\n  Downloading pytest-7.4.3-py3-none-any.whl (325 kB)\n\u001b[2K     \u001b[90m━━━━━━━━━━━━━━━━━━━━━━━━━━━━━━━━━━━━━━\u001b[0m \u001b[32m325.1/325.1 kB\u001b[0m \u001b[31m35.6 MB/s\u001b[0m eta \u001b[36m0:00:00\u001b[0m\n\u001b[?25hCollecting iniconfig\n  Downloading iniconfig-2.0.0-py3-none-any.whl (5.9 kB)\nCollecting tomli>=1.0.0\n  Downloading tomli-2.0.1-py3-none-any.whl (12 kB)\nRequirement already satisfied: pluggy<2.0,>=0.12 in /shared-libs/python3.9/py-core/lib/python3.9/site-packages (from pytest) (1.0.0)\nRequirement already satisfied: packaging in /shared-libs/python3.9/py-core/lib/python3.9/site-packages (from pytest) (21.3)\nCollecting exceptiongroup>=1.0.0rc8\n  Downloading exceptiongroup-1.1.3-py3-none-any.whl (14 kB)\nRequirement already satisfied: pyparsing!=3.0.5,>=2.0.2 in /shared-libs/python3.9/py-core/lib/python3.9/site-packages (from packaging->pytest) (3.0.9)\nInstalling collected packages: tomli, iniconfig, exceptiongroup, pytest\nSuccessfully installed exceptiongroup-1.1.3 iniconfig-2.0.0 pytest-7.4.3 tomli-2.0.1\n\n\u001b[1m[\u001b[0m\u001b[34;49mnotice\u001b[0m\u001b[1;39;49m]\u001b[0m\u001b[39;49m A new release of pip is available: \u001b[0m\u001b[31;49m23.0.1\u001b[0m\u001b[39;49m -> \u001b[0m\u001b[32;49m23.3.1\u001b[0m\n\u001b[1m[\u001b[0m\u001b[34;49mnotice\u001b[0m\u001b[1;39;49m]\u001b[0m\u001b[39;49m To update, run: \u001b[0m\u001b[32;49mpip install --upgrade pip\u001b[0m\n",
          "output_type": "stream"
        }
      ],
      "execution_count": null,
      "block_group": "67609841e9c24e37a8d796f27964cbd3"
    },
    {
      "cell_type": "code",
      "source": "!pytest -m \"not integration\"",
      "metadata": {
        "source_hash": null,
        "execution_start": 1698348913984,
        "execution_millis": 59461,
        "deepnote_to_be_reexecuted": false,
        "cell_id": "1ed1154a79a2495fb4871fa8ffb38210",
        "deepnote_cell_type": "code"
      },
      "outputs": [
        {
          "name": "stdout",
          "text": "\u001b[1m============================= test session starts ==============================\u001b[0m\nplatform linux -- Python 3.9.17, pytest-7.4.3, pluggy-1.0.0\nrootdir: /datasets/_deepnote_work\nplugins: anyio-3.6.2\ncollected 0 items                                                              \u001b[0m\n\n\u001b[33m============================ \u001b[33mno tests ran\u001b[0m\u001b[33m in 57.61s\u001b[0m\u001b[33m ============================\u001b[0m\n",
          "output_type": "stream"
        }
      ],
      "execution_count": null,
      "block_group": "2af8c4efec6e46c8a1e8e9ff74bfdc78"
    },
    {
      "cell_type": "markdown",
      "source": "<a style='text-decoration:none;line-height:16px;display:flex;color:#5B5B62;padding:10px;justify-content:end;' href='https://deepnote.com?utm_source=created-in-deepnote-cell&projectId=386b38a3-1e69-4efd-93fd-b03313064ced' target=\"_blank\">\n<img alt='Created in deepnote.com' style='display:inline;max-height:16px;margin:0px;margin-right:7.5px;' src='data:image/svg+xml;base64,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' > </img>\nCreated in <span style='font-weight:600;margin-left:4px;'>Deepnote</span></a>",
      "metadata": {
        "created_in_deepnote_cell": true,
        "deepnote_cell_type": "markdown"
      }
    }
  ],
  "nbformat": 4,
  "nbformat_minor": 0,
  "metadata": {
    "deepnote": {},
    "orig_nbformat": 2,
    "deepnote_notebook_id": "42d383519ca84f989ab6d66b8c1cd5d7",
    "deepnote_execution_queue": []
  }
}